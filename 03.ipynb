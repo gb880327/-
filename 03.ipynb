{
 "cells": [
  {
   "cell_type": "code",
   "execution_count": 1,
   "metadata": {},
   "outputs": [],
   "source": [
    "import pandas as pd\n",
    "import matplotlib.pyplot as plt"
   ]
  },
  {
   "cell_type": "code",
   "execution_count": 2,
   "metadata": {},
   "outputs": [],
   "source": [
    "dau = pd.read_csv('./data/section3-dau.csv')\n",
    "dpu = pd.read_csv('./data/section3-dpu.csv')\n",
    "install = pd.read_csv('./data/section3-install.csv')"
   ]
  },
  {
   "cell_type": "code",
   "execution_count": 3,
   "metadata": {},
   "outputs": [],
   "source": [
    "dau_install = dau.merge(install, on=['app_name', 'user_id'])\n",
    "\n",
    "data = dau_install.merge(dpu,how='left', on=['log_date', 'app_name', 'user_id'])\n",
    "data['payment'] = data['payment'].fillna(value=0)\n",
    "data['log_month'] = data['log_date'].map(lambda x: x[:7])\n",
    "data['install_month'] = data['install_date'].map(lambda x: x[:7])\n",
    "\n",
    "data = data[['user_id', 'app_name', 'log_month', 'install_month', 'payment']]\n",
    "data = data.sort_values(by='user_id')\n",
    "\n",
    "data = data.groupby(by=['log_month','user_id' , 'install_month'])\n",
    "data = data.sum()\n",
    "data = data.reset_index()\n",
    "\n",
    "data['type'] = data.apply(lambda x: 'install' if x['install_month'] == x['log_month'] else 'existing', axis=1)"
   ]
  },
  {
   "cell_type": "code",
   "execution_count": 5,
   "metadata": {},
   "outputs": [
    {
     "data": {
      "image/png": "[encoded data removed]",
      "text/plain": [
       "<Figure size 432x288 with 1 Axes>"
      ]
     },
     "metadata": {
      "needs_background": "light"
     },
     "output_type": "display_data"
    }
   ],
   "source": [
    "labels = list(data['log_month'].drop_duplicates())\n",
    "existing_data = list(data.loc[data['type']=='existing'][['log_month','payment']].groupby('log_month').sum().reset_index()['payment'])\n",
    "install_data = list(data.loc[data['type']=='install'][['log_month', 'payment']].groupby('log_month').sum().reset_index()['payment'])\n",
    "\n",
    "\n",
    "fig,ax = plt.subplots()\n",
    "ax.bar(labels, existing_data,0.35,label='existing')\n",
    "ax.bar(labels, install_data, 0.35,label='install', bottom=existing_data)\n",
    "ax.set_ylabel('消费金额')\n",
    "ax.set_title(\"新老客户消费数据对比\")\n",
    "ax.legend()\n",
    "plt.show()"
   ]
  },
  {
   "cell_type": "code",
   "execution_count": null,
   "metadata": {},
   "outputs": [],
   "source": []
  }
 ],
 "metadata": {
  "kernelspec": {
   "display_name": "Python 3",
   "language": "python",
   "name": "python3"
  },
  "language_info": {
   "codemirror_mode": {
    "name": "ipython",
    "version": 3
   },
   "file_extension": ".py",
   "mimetype": "text/x-python",
   "name": "python",
   "nbconvert_exporter": "python",
   "pygments_lexer": "ipython3",
   "version": "3.8.3"
  }
 },
 "nbformat": 4,
 "nbformat_minor": 4
}
